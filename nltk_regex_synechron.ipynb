{
 "cells": [
  {
   "cell_type": "code",
   "execution_count": 1,
   "id": "2e53ef33",
   "metadata": {},
   "outputs": [],
   "source": [
    "import nltk"
   ]
  },
  {
   "cell_type": "code",
   "execution_count": 2,
   "id": "afc55ae0",
   "metadata": {},
   "outputs": [],
   "source": [
    "#nltk.download('punkt')"
   ]
  },
  {
   "cell_type": "code",
   "execution_count": 3,
   "id": "9a6709aa",
   "metadata": {},
   "outputs": [],
   "source": [
    "### nltk.download(\"all\")"
   ]
  },
  {
   "cell_type": "code",
   "execution_count": 4,
   "id": "cf8d13e0",
   "metadata": {},
   "outputs": [],
   "source": [
    "from nltk.tokenize import sent_tokenize,word_tokenize"
   ]
  },
  {
   "cell_type": "code",
   "execution_count": 5,
   "id": "249606b1",
   "metadata": {},
   "outputs": [],
   "source": [
    "text=\"Community Edition Username or primary email. Password GitLab Internal GitLab for Operations. After login, please change your username to be the same as it is on gitlab.com. Username or primary email Password Forgot your password\""
   ]
  },
  {
   "cell_type": "code",
   "execution_count": 6,
   "id": "2db736b5",
   "metadata": {},
   "outputs": [
    {
     "data": {
      "text/plain": [
       "['Community Edition Username or primary email.',\n",
       " 'Password GitLab Internal GitLab for Operations.',\n",
       " 'After login, please change your username to be the same as it is on gitlab.com.',\n",
       " 'Username or primary email Password Forgot your password']"
      ]
     },
     "execution_count": 6,
     "metadata": {},
     "output_type": "execute_result"
    }
   ],
   "source": [
    "sentences=sent_tokenize(text)\n",
    "sentences"
   ]
  },
  {
   "cell_type": "code",
   "execution_count": 7,
   "id": "3ffbf033",
   "metadata": {},
   "outputs": [
    {
     "data": {
      "text/plain": [
       "['Community',\n",
       " 'Edition',\n",
       " 'Username',\n",
       " 'or',\n",
       " 'primary',\n",
       " 'email',\n",
       " '.',\n",
       " 'Password',\n",
       " 'GitLab',\n",
       " 'Internal',\n",
       " 'GitLab',\n",
       " 'for',\n",
       " 'Operations',\n",
       " '.',\n",
       " 'After',\n",
       " 'login',\n",
       " ',',\n",
       " 'please',\n",
       " 'change',\n",
       " 'your',\n",
       " 'username',\n",
       " 'to',\n",
       " 'be',\n",
       " 'the',\n",
       " 'same',\n",
       " 'as',\n",
       " 'it',\n",
       " 'is',\n",
       " 'on',\n",
       " 'gitlab.com',\n",
       " '.',\n",
       " 'Username',\n",
       " 'or',\n",
       " 'primary',\n",
       " 'email',\n",
       " 'Password',\n",
       " 'Forgot',\n",
       " 'your',\n",
       " 'password']"
      ]
     },
     "execution_count": 7,
     "metadata": {},
     "output_type": "execute_result"
    }
   ],
   "source": [
    "tokens=word_tokenize(text)\n",
    "tokens"
   ]
  },
  {
   "cell_type": "code",
   "execution_count": 8,
   "id": "df5208eb",
   "metadata": {},
   "outputs": [],
   "source": [
    "from nltk.stem import PorterStemmer,WordNetLemmatizer"
   ]
  },
  {
   "cell_type": "code",
   "execution_count": 9,
   "id": "75485cf2",
   "metadata": {},
   "outputs": [],
   "source": [
    "words=[\"being\",\"be\",\"is\",\"am\",\"are\",\"running\",\"flies\",\"flowers\",\"happily\",\"artificial\",\"behaves\",\"behaving\",\"behaved\",\"behaviour\"]"
   ]
  },
  {
   "cell_type": "code",
   "execution_count": 10,
   "id": "1548b48d",
   "metadata": {},
   "outputs": [],
   "source": [
    "ps=PorterStemmer()"
   ]
  },
  {
   "cell_type": "code",
   "execution_count": 11,
   "id": "d9cd4c0a",
   "metadata": {},
   "outputs": [
    {
     "data": {
      "text/plain": [
       "['be',\n",
       " 'be',\n",
       " 'is',\n",
       " 'am',\n",
       " 'are',\n",
       " 'run',\n",
       " 'fli',\n",
       " 'flower',\n",
       " 'happili',\n",
       " 'artifici',\n",
       " 'behav',\n",
       " 'behav',\n",
       " 'behav',\n",
       " 'behaviour']"
      ]
     },
     "execution_count": 11,
     "metadata": {},
     "output_type": "execute_result"
    }
   ],
   "source": [
    "stemmed_words=[ps.stem(word) for word in words]\n",
    "stemmed_words"
   ]
  },
  {
   "cell_type": "code",
   "execution_count": 12,
   "id": "2c909a0d",
   "metadata": {},
   "outputs": [],
   "source": [
    "lem=WordNetLemmatizer()"
   ]
  },
  {
   "cell_type": "code",
   "execution_count": 13,
   "id": "eabe27eb",
   "metadata": {},
   "outputs": [
    {
     "data": {
      "text/plain": [
       "['being',\n",
       " 'be',\n",
       " 'is',\n",
       " 'am',\n",
       " 'are',\n",
       " 'running',\n",
       " 'fly',\n",
       " 'flower',\n",
       " 'happily',\n",
       " 'artificial',\n",
       " 'behaves',\n",
       " 'behaving',\n",
       " 'behaved',\n",
       " 'behaviour']"
      ]
     },
     "execution_count": 13,
     "metadata": {},
     "output_type": "execute_result"
    }
   ],
   "source": [
    "lem_words=[lem.lemmatize(word) for word in words]\n",
    "lem_words"
   ]
  },
  {
   "cell_type": "code",
   "execution_count": 14,
   "id": "eac69601",
   "metadata": {},
   "outputs": [],
   "source": [
    "from nltk.corpus import stopwords"
   ]
  },
  {
   "cell_type": "code",
   "execution_count": 15,
   "id": "1642179e",
   "metadata": {},
   "outputs": [],
   "source": [
    "stop_words=set(stopwords.words('english'))"
   ]
  },
  {
   "cell_type": "code",
   "execution_count": 16,
   "id": "5587b056",
   "metadata": {},
   "outputs": [
    {
     "data": {
      "text/plain": [
       "['Community',\n",
       " 'Edition',\n",
       " 'Username',\n",
       " 'primary',\n",
       " 'email',\n",
       " '.',\n",
       " 'Password',\n",
       " 'GitLab',\n",
       " 'Internal',\n",
       " 'GitLab',\n",
       " 'Operations',\n",
       " '.',\n",
       " 'login',\n",
       " ',',\n",
       " 'please',\n",
       " 'change',\n",
       " 'username',\n",
       " 'gitlab.com',\n",
       " '.',\n",
       " 'Username',\n",
       " 'primary',\n",
       " 'email',\n",
       " 'Password',\n",
       " 'Forgot',\n",
       " 'password']"
      ]
     },
     "execution_count": 16,
     "metadata": {},
     "output_type": "execute_result"
    }
   ],
   "source": [
    "fil_tokens=[word for word in tokens if word.lower() not in stop_words]\n",
    "fil_tokens"
   ]
  },
  {
   "cell_type": "code",
   "execution_count": 17,
   "id": "4ef57946",
   "metadata": {},
   "outputs": [
    {
     "name": "stdout",
     "output_type": "stream",
     "text": [
      "POS Tags: [('NLTK', 'NNP'), ('is', 'VBZ'), ('a', 'DT'), ('powerful', 'JJ'), ('library', 'NN'), ('for', 'IN'), ('natural', 'JJ'), ('language', 'NN'), ('processing', 'NN'), ('.', '.'), ('It', 'PRP'), ('makes', 'VBZ'), ('it', 'PRP'), ('easy', 'JJ'), ('to', 'TO'), ('work', 'VB'), ('with', 'IN'), ('human', 'JJ'), ('language', 'NN'), ('data', 'NNS'), ('.', '.')]\n"
     ]
    }
   ],
   "source": [
    "from nltk import pos_tag\n",
    "from nltk.tokenize import word_tokenize\n",
    "\n",
    "# Sample text for POS tagging\n",
    "text = \"NLTK is a powerful library for natural language processing. It makes it easy to work with human language data.\"\n",
    "\n",
    "# Tokenization\n",
    "tokens = word_tokenize(text)\n",
    "\n",
    "# POS tagging\n",
    "pos_tags = pos_tag(tokens)\n",
    "print(\"POS Tags:\", pos_tags)"
   ]
  },
  {
   "cell_type": "code",
   "execution_count": 18,
   "id": "80f15169",
   "metadata": {},
   "outputs": [
    {
     "data": {
      "text/plain": [
       "<re.Match object; span=(7, 13), match='Python'>"
      ]
     },
     "execution_count": 18,
     "metadata": {},
     "output_type": "execute_result"
    }
   ],
   "source": [
    "### Regular expression\n",
    "\n",
    "import re\n",
    "pattern=re.compile(\"Python\")\n",
    "\n",
    "text=\"I love Python programming language\"\n",
    "match=pattern.search(text)\n",
    "match"
   ]
  },
  {
   "cell_type": "code",
   "execution_count": 19,
   "id": "a3cad4aa",
   "metadata": {},
   "outputs": [
    {
     "data": {
      "text/plain": [
       "['02/15/2024', '02/16/2024']"
      ]
     },
     "execution_count": 19,
     "metadata": {},
     "output_type": "execute_result"
    }
   ],
   "source": [
    "pattern2=re.compile(r'\\d{2}/\\d{2}/\\d{4}')\n",
    "text=\"Today is 02/15/2024.Tomorrow is 02/16/2024\"\n",
    "match2=pattern2.findall(text)\n",
    "match2"
   ]
  },
  {
   "cell_type": "code",
   "execution_count": 20,
   "id": "c87b48ae",
   "metadata": {},
   "outputs": [
    {
     "data": {
      "text/plain": [
       "[('nivimachinelearning', 'gmail', 'com'), ('2023', 'gmail', 'com')]"
      ]
     },
     "execution_count": 20,
     "metadata": {},
     "output_type": "execute_result"
    }
   ],
   "source": [
    "### email id\n",
    "\n",
    "pattern3=re.compile(r'(\\w+)@(\\w+)\\.(\\w+)')\n",
    "text3=\"nivimachinelearning@gmail.com,techiegal.2023@gmail.com\"\n",
    "match3=pattern3.findall(text3)\n",
    "match3"
   ]
  },
  {
   "cell_type": "code",
   "execution_count": 21,
   "id": "a3c55431",
   "metadata": {},
   "outputs": [],
   "source": [
    "pattern4=re.compile(r'\\d+')\n",
    "\n",
    "text=\"I have 5 pencils and 4 pens\"\n",
    "text4=pattern4.sub('X',text)"
   ]
  },
  {
   "cell_type": "code",
   "execution_count": 22,
   "id": "c1e6e30a",
   "metadata": {},
   "outputs": [
    {
     "data": {
      "text/plain": [
       "'I have X pencils and X pens'"
      ]
     },
     "execution_count": 22,
     "metadata": {},
     "output_type": "execute_result"
    }
   ],
   "source": [
    "text4"
   ]
  },
  {
   "cell_type": "code",
   "execution_count": 24,
   "id": "0ce6cb15",
   "metadata": {},
   "outputs": [
    {
     "data": {
      "text/plain": [
       "['https://www.example.com.', 'https://github.com/user/repo.']"
      ]
     },
     "execution_count": 24,
     "metadata": {},
     "output_type": "execute_result"
    }
   ],
   "source": [
    "pattern = re.compile(r'https?://\\S+')\n",
    "\n",
    "text = 'Visit my website at https://www.example.com. For more information, check https://github.com/user/repo.'\n",
    "urls = pattern.findall(text)\n",
    "urls"
   ]
  },
  {
   "cell_type": "code",
   "execution_count": null,
   "id": "2e0dd461",
   "metadata": {},
   "outputs": [],
   "source": []
  }
 ],
 "metadata": {
  "kernelspec": {
   "display_name": "Python 3 (ipykernel)",
   "language": "python",
   "name": "python3"
  },
  "language_info": {
   "codemirror_mode": {
    "name": "ipython",
    "version": 3
   },
   "file_extension": ".py",
   "mimetype": "text/x-python",
   "name": "python",
   "nbconvert_exporter": "python",
   "pygments_lexer": "ipython3",
   "version": "3.11.7"
  }
 },
 "nbformat": 4,
 "nbformat_minor": 5
}
